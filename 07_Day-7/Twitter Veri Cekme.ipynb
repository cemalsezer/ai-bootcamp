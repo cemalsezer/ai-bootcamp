{
 "cells": [
  {
   "cell_type": "code",
   "execution_count": 1,
   "id": "ffeb7496",
   "metadata": {
    "collapsed": true
   },
   "outputs": [
    {
     "name": "stdout",
     "output_type": "stream",
     "text": [
      "Collecting snscrape\n",
      "  Downloading snscrape-0.5.0.20230113-py3-none-any.whl (69 kB)\n",
      "     -------------------------------------- 69.2/69.2 kB 377.7 kB/s eta 0:00:00\n",
      "Requirement already satisfied: lxml in d:\\anaconda\\lib\\site-packages (from snscrape) (4.9.1)\n",
      "Requirement already satisfied: requests[socks] in d:\\anaconda\\lib\\site-packages (from snscrape) (2.28.1)\n",
      "Requirement already satisfied: beautifulsoup4 in d:\\anaconda\\lib\\site-packages (from snscrape) (4.11.1)\n",
      "Requirement already satisfied: filelock in d:\\anaconda\\lib\\site-packages (from snscrape) (3.6.0)\n",
      "Requirement already satisfied: soupsieve>1.2 in d:\\anaconda\\lib\\site-packages (from beautifulsoup4->snscrape) (2.3.1)\n",
      "Requirement already satisfied: charset-normalizer<3,>=2 in d:\\anaconda\\lib\\site-packages (from requests[socks]->snscrape) (2.0.4)\n",
      "Requirement already satisfied: certifi>=2017.4.17 in d:\\anaconda\\lib\\site-packages (from requests[socks]->snscrape) (2022.12.7)\n",
      "Requirement already satisfied: urllib3<1.27,>=1.21.1 in d:\\anaconda\\lib\\site-packages (from requests[socks]->snscrape) (1.26.11)\n",
      "Requirement already satisfied: idna<4,>=2.5 in d:\\anaconda\\lib\\site-packages (from requests[socks]->snscrape) (3.4)\n",
      "Requirement already satisfied: PySocks!=1.5.7,>=1.5.6 in d:\\anaconda\\lib\\site-packages (from requests[socks]->snscrape) (1.7.1)\n",
      "Installing collected packages: snscrape\n",
      "Successfully installed snscrape-0.5.0.20230113\n"
     ]
    }
   ],
   "source": [
    "#pip install snscrape"
   ]
  },
  {
   "cell_type": "code",
   "execution_count": 2,
   "id": "108d04d4",
   "metadata": {},
   "outputs": [],
   "source": [
    "import snscrape.modules.twitter as sntwitter    "
   ]
  },
  {
   "cell_type": "code",
   "execution_count": 3,
   "id": "11980ff9",
   "metadata": {},
   "outputs": [],
   "source": [
    "import pandas as pd"
   ]
  },
  {
   "cell_type": "code",
   "execution_count": 4,
   "id": "d7ef02f3",
   "metadata": {},
   "outputs": [],
   "source": [
    "import itertools"
   ]
  },
  {
   "cell_type": "code",
   "execution_count": 5,
   "id": "3cfe4a92",
   "metadata": {},
   "outputs": [],
   "source": [
    "df=pd.DataFrame(itertools.islice(sntwitter.TwitterSearchScraper('vaccine since:2020-11-13').get_items(),100))"
   ]
  },
  {
   "cell_type": "code",
   "execution_count": 7,
   "id": "5cfbb737",
   "metadata": {
    "collapsed": true
   },
   "outputs": [
    {
     "data": {
      "text/html": [
       "<div>\n",
       "<style scoped>\n",
       "    .dataframe tbody tr th:only-of-type {\n",
       "        vertical-align: middle;\n",
       "    }\n",
       "\n",
       "    .dataframe tbody tr th {\n",
       "        vertical-align: top;\n",
       "    }\n",
       "\n",
       "    .dataframe thead th {\n",
       "        text-align: right;\n",
       "    }\n",
       "</style>\n",
       "<table border=\"1\" class=\"dataframe\">\n",
       "  <thead>\n",
       "    <tr style=\"text-align: right;\">\n",
       "      <th></th>\n",
       "      <th>url</th>\n",
       "      <th>date</th>\n",
       "      <th>rawContent</th>\n",
       "      <th>renderedContent</th>\n",
       "      <th>id</th>\n",
       "      <th>user</th>\n",
       "      <th>replyCount</th>\n",
       "      <th>retweetCount</th>\n",
       "      <th>likeCount</th>\n",
       "      <th>quoteCount</th>\n",
       "      <th>...</th>\n",
       "      <th>inReplyToTweetId</th>\n",
       "      <th>inReplyToUser</th>\n",
       "      <th>mentionedUsers</th>\n",
       "      <th>coordinates</th>\n",
       "      <th>place</th>\n",
       "      <th>hashtags</th>\n",
       "      <th>cashtags</th>\n",
       "      <th>card</th>\n",
       "      <th>viewCount</th>\n",
       "      <th>vibe</th>\n",
       "    </tr>\n",
       "  </thead>\n",
       "  <tbody>\n",
       "    <tr>\n",
       "      <th>0</th>\n",
       "      <td>https://twitter.com/Storiesofinjury/status/162...</td>\n",
       "      <td>2023-02-25 18:00:12+00:00</td>\n",
       "      <td>@6e99773de5dc4fa I said it back in 2021: some ...</td>\n",
       "      <td>@6e99773de5dc4fa I said it back in 2021: some ...</td>\n",
       "      <td>1629541788481454087</td>\n",
       "      <td>{'username': 'Storiesofinjury', 'id': 14560815...</td>\n",
       "      <td>0</td>\n",
       "      <td>0</td>\n",
       "      <td>0</td>\n",
       "      <td>0</td>\n",
       "      <td>...</td>\n",
       "      <td>1.629541e+18</td>\n",
       "      <td>{'username': '6e99773de5dc4fa', 'id': 30476664...</td>\n",
       "      <td>[{'username': '6e99773de5dc4fa', 'id': 3047666...</td>\n",
       "      <td>None</td>\n",
       "      <td>None</td>\n",
       "      <td>None</td>\n",
       "      <td>None</td>\n",
       "      <td>None</td>\n",
       "      <td>NaN</td>\n",
       "      <td>None</td>\n",
       "    </tr>\n",
       "    <tr>\n",
       "      <th>1</th>\n",
       "      <td>https://twitter.com/normanwlucas/status/162954...</td>\n",
       "      <td>2023-02-25 18:00:10+00:00</td>\n",
       "      <td>Norfolk: $10 billion on stock buybacks, mushro...</td>\n",
       "      <td>Norfolk: $10 billion on stock buybacks, mushro...</td>\n",
       "      <td>1629541779509768192</td>\n",
       "      <td>{'username': 'normanwlucas', 'id': 115983695, ...</td>\n",
       "      <td>0</td>\n",
       "      <td>0</td>\n",
       "      <td>0</td>\n",
       "      <td>0</td>\n",
       "      <td>...</td>\n",
       "      <td>NaN</td>\n",
       "      <td>None</td>\n",
       "      <td>None</td>\n",
       "      <td>None</td>\n",
       "      <td>None</td>\n",
       "      <td>None</td>\n",
       "      <td>None</td>\n",
       "      <td>None</td>\n",
       "      <td>NaN</td>\n",
       "      <td>None</td>\n",
       "    </tr>\n",
       "    <tr>\n",
       "      <th>2</th>\n",
       "      <td>https://twitter.com/lace_anne/status/162954177...</td>\n",
       "      <td>2023-02-25 18:00:09+00:00</td>\n",
       "      <td>@Intrepid87 @RobertKennedyJr By the time the v...</td>\n",
       "      <td>@Intrepid87 @RobertKennedyJr By the time the v...</td>\n",
       "      <td>1629541777924407297</td>\n",
       "      <td>{'username': 'lace_anne', 'id': 10243985719389...</td>\n",
       "      <td>0</td>\n",
       "      <td>0</td>\n",
       "      <td>0</td>\n",
       "      <td>0</td>\n",
       "      <td>...</td>\n",
       "      <td>1.629539e+18</td>\n",
       "      <td>{'username': 'Intrepid87', 'id': 43387946, 'di...</td>\n",
       "      <td>[{'username': 'Intrepid87', 'id': 43387946, 'd...</td>\n",
       "      <td>None</td>\n",
       "      <td>None</td>\n",
       "      <td>None</td>\n",
       "      <td>None</td>\n",
       "      <td>None</td>\n",
       "      <td>NaN</td>\n",
       "      <td>None</td>\n",
       "    </tr>\n",
       "    <tr>\n",
       "      <th>3</th>\n",
       "      <td>https://twitter.com/Ezekiel_20_25/status/16295...</td>\n",
       "      <td>2023-02-25 18:00:06+00:00</td>\n",
       "      <td>@nowlege1 If that was all I was upset about, w...</td>\n",
       "      <td>@nowlege1 If that was all I was upset about, w...</td>\n",
       "      <td>1629541764364156929</td>\n",
       "      <td>{'username': 'Ezekiel_20_25', 'id': 1607925640...</td>\n",
       "      <td>0</td>\n",
       "      <td>0</td>\n",
       "      <td>0</td>\n",
       "      <td>0</td>\n",
       "      <td>...</td>\n",
       "      <td>1.629512e+18</td>\n",
       "      <td>{'username': 'nowlege1', 'id': 105640896957143...</td>\n",
       "      <td>[{'username': 'nowlege1', 'id': 10564089695714...</td>\n",
       "      <td>None</td>\n",
       "      <td>None</td>\n",
       "      <td>None</td>\n",
       "      <td>None</td>\n",
       "      <td>None</td>\n",
       "      <td>NaN</td>\n",
       "      <td>None</td>\n",
       "    </tr>\n",
       "    <tr>\n",
       "      <th>4</th>\n",
       "      <td>https://twitter.com/teebo2811/status/162954176...</td>\n",
       "      <td>2023-02-25 18:00:06+00:00</td>\n",
       "      <td>@LummHandy @DLFParis16 @teamplayer82 @Vigilant...</td>\n",
       "      <td>@LummHandy @DLFParis16 @teamplayer82 @Vigilant...</td>\n",
       "      <td>1629541761440677889</td>\n",
       "      <td>{'username': 'teebo2811', 'id': 410795859, 'di...</td>\n",
       "      <td>0</td>\n",
       "      <td>0</td>\n",
       "      <td>0</td>\n",
       "      <td>0</td>\n",
       "      <td>...</td>\n",
       "      <td>1.629541e+18</td>\n",
       "      <td>{'username': 'LummHandy', 'id': 15454750903133...</td>\n",
       "      <td>[{'username': 'LummHandy', 'id': 1545475090313...</td>\n",
       "      <td>None</td>\n",
       "      <td>None</td>\n",
       "      <td>None</td>\n",
       "      <td>None</td>\n",
       "      <td>None</td>\n",
       "      <td>NaN</td>\n",
       "      <td>None</td>\n",
       "    </tr>\n",
       "  </tbody>\n",
       "</table>\n",
       "<p>5 rows × 29 columns</p>\n",
       "</div>"
      ],
      "text/plain": [
       "                                                 url  \\\n",
       "0  https://twitter.com/Storiesofinjury/status/162...   \n",
       "1  https://twitter.com/normanwlucas/status/162954...   \n",
       "2  https://twitter.com/lace_anne/status/162954177...   \n",
       "3  https://twitter.com/Ezekiel_20_25/status/16295...   \n",
       "4  https://twitter.com/teebo2811/status/162954176...   \n",
       "\n",
       "                       date  \\\n",
       "0 2023-02-25 18:00:12+00:00   \n",
       "1 2023-02-25 18:00:10+00:00   \n",
       "2 2023-02-25 18:00:09+00:00   \n",
       "3 2023-02-25 18:00:06+00:00   \n",
       "4 2023-02-25 18:00:06+00:00   \n",
       "\n",
       "                                          rawContent  \\\n",
       "0  @6e99773de5dc4fa I said it back in 2021: some ...   \n",
       "1  Norfolk: $10 billion on stock buybacks, mushro...   \n",
       "2  @Intrepid87 @RobertKennedyJr By the time the v...   \n",
       "3  @nowlege1 If that was all I was upset about, w...   \n",
       "4  @LummHandy @DLFParis16 @teamplayer82 @Vigilant...   \n",
       "\n",
       "                                     renderedContent                   id  \\\n",
       "0  @6e99773de5dc4fa I said it back in 2021: some ...  1629541788481454087   \n",
       "1  Norfolk: $10 billion on stock buybacks, mushro...  1629541779509768192   \n",
       "2  @Intrepid87 @RobertKennedyJr By the time the v...  1629541777924407297   \n",
       "3  @nowlege1 If that was all I was upset about, w...  1629541764364156929   \n",
       "4  @LummHandy @DLFParis16 @teamplayer82 @Vigilant...  1629541761440677889   \n",
       "\n",
       "                                                user  replyCount  \\\n",
       "0  {'username': 'Storiesofinjury', 'id': 14560815...           0   \n",
       "1  {'username': 'normanwlucas', 'id': 115983695, ...           0   \n",
       "2  {'username': 'lace_anne', 'id': 10243985719389...           0   \n",
       "3  {'username': 'Ezekiel_20_25', 'id': 1607925640...           0   \n",
       "4  {'username': 'teebo2811', 'id': 410795859, 'di...           0   \n",
       "\n",
       "   retweetCount  likeCount  quoteCount  ...  inReplyToTweetId  \\\n",
       "0             0          0           0  ...      1.629541e+18   \n",
       "1             0          0           0  ...               NaN   \n",
       "2             0          0           0  ...      1.629539e+18   \n",
       "3             0          0           0  ...      1.629512e+18   \n",
       "4             0          0           0  ...      1.629541e+18   \n",
       "\n",
       "                                       inReplyToUser  \\\n",
       "0  {'username': '6e99773de5dc4fa', 'id': 30476664...   \n",
       "1                                               None   \n",
       "2  {'username': 'Intrepid87', 'id': 43387946, 'di...   \n",
       "3  {'username': 'nowlege1', 'id': 105640896957143...   \n",
       "4  {'username': 'LummHandy', 'id': 15454750903133...   \n",
       "\n",
       "                                      mentionedUsers coordinates place  \\\n",
       "0  [{'username': '6e99773de5dc4fa', 'id': 3047666...        None  None   \n",
       "1                                               None        None  None   \n",
       "2  [{'username': 'Intrepid87', 'id': 43387946, 'd...        None  None   \n",
       "3  [{'username': 'nowlege1', 'id': 10564089695714...        None  None   \n",
       "4  [{'username': 'LummHandy', 'id': 1545475090313...        None  None   \n",
       "\n",
       "  hashtags cashtags  card viewCount  vibe  \n",
       "0     None     None  None       NaN  None  \n",
       "1     None     None  None       NaN  None  \n",
       "2     None     None  None       NaN  None  \n",
       "3     None     None  None       NaN  None  \n",
       "4     None     None  None       NaN  None  \n",
       "\n",
       "[5 rows x 29 columns]"
      ]
     },
     "execution_count": 7,
     "metadata": {},
     "output_type": "execute_result"
    }
   ],
   "source": [
    "df.head()"
   ]
  },
  {
   "cell_type": "code",
   "execution_count": 9,
   "id": "57e1064b",
   "metadata": {},
   "outputs": [
    {
     "data": {
      "text/plain": [
       "(100, 29)"
      ]
     },
     "execution_count": 9,
     "metadata": {},
     "output_type": "execute_result"
    }
   ],
   "source": [
    "df.shape"
   ]
  },
  {
   "cell_type": "code",
   "execution_count": 21,
   "id": "9869b2f5",
   "metadata": {},
   "outputs": [],
   "source": [
    "df=pd.DataFrame(itertools.islice(sntwitter.TwitterSearchScraper('TOGG geocode:Istanbul').get_items(),100))"
   ]
  },
  {
   "cell_type": "code",
   "execution_count": 22,
   "id": "b5ecd6f9",
   "metadata": {},
   "outputs": [
    {
     "data": {
      "text/html": [
       "<div>\n",
       "<style scoped>\n",
       "    .dataframe tbody tr th:only-of-type {\n",
       "        vertical-align: middle;\n",
       "    }\n",
       "\n",
       "    .dataframe tbody tr th {\n",
       "        vertical-align: top;\n",
       "    }\n",
       "\n",
       "    .dataframe thead th {\n",
       "        text-align: right;\n",
       "    }\n",
       "</style>\n",
       "<table border=\"1\" class=\"dataframe\">\n",
       "  <thead>\n",
       "    <tr style=\"text-align: right;\">\n",
       "      <th></th>\n",
       "    </tr>\n",
       "  </thead>\n",
       "  <tbody>\n",
       "  </tbody>\n",
       "</table>\n",
       "</div>"
      ],
      "text/plain": [
       "Empty DataFrame\n",
       "Columns: []\n",
       "Index: []"
      ]
     },
     "execution_count": 22,
     "metadata": {},
     "output_type": "execute_result"
    }
   ],
   "source": [
    "df.head(5)"
   ]
  },
  {
   "cell_type": "code",
   "execution_count": null,
   "id": "b468ad28",
   "metadata": {},
   "outputs": [],
   "source": []
  }
 ],
 "metadata": {
  "kernelspec": {
   "display_name": "Python 3",
   "language": "python",
   "name": "python3"
  },
  "language_info": {
   "codemirror_mode": {
    "name": "ipython",
    "version": 3
   },
   "file_extension": ".py",
   "mimetype": "text/x-python",
   "name": "python",
   "nbconvert_exporter": "python",
   "pygments_lexer": "ipython3",
   "version": "3.11.2"
  },
  "vscode": {
   "interpreter": {
    "hash": "03fb285979f2ad76fb381cc5080d08681d4ad3e21ff2dbc3e2b8c7f08e693531"
   }
  }
 },
 "nbformat": 4,
 "nbformat_minor": 5
}
